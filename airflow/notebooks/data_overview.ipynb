{
 "cells": [
  {
   "cell_type": "code",
   "execution_count": 1,
   "id": "fbbcdabc",
   "metadata": {},
   "outputs": [],
   "source": [
    "import pandas as pd"
   ]
  },
  {
   "cell_type": "code",
   "execution_count": 2,
   "id": "e65f203c",
   "metadata": {},
   "outputs": [],
   "source": [
    "df = pd.read_csv(\"../data/complaints_raw/complaints-2025-04-16-2025-04-17_12_27.csv\")"
   ]
  },
  {
   "cell_type": "code",
   "execution_count": 3,
   "id": "6245e2c6",
   "metadata": {},
   "outputs": [
    {
     "data": {
      "text/plain": [
       "(750, 18)"
      ]
     },
     "execution_count": 3,
     "metadata": {},
     "output_type": "execute_result"
    }
   ],
   "source": [
    "df.shape"
   ]
  },
  {
   "cell_type": "code",
   "execution_count": 9,
   "id": "ee076ac5",
   "metadata": {},
   "outputs": [
    {
     "data": {
      "text/html": [
       "<div>\n",
       "<style scoped>\n",
       "    .dataframe tbody tr th:only-of-type {\n",
       "        vertical-align: middle;\n",
       "    }\n",
       "\n",
       "    .dataframe tbody tr th {\n",
       "        vertical-align: top;\n",
       "    }\n",
       "\n",
       "    .dataframe thead th {\n",
       "        text-align: right;\n",
       "    }\n",
       "</style>\n",
       "<table border=\"1\" class=\"dataframe\">\n",
       "  <thead>\n",
       "    <tr style=\"text-align: right;\">\n",
       "      <th></th>\n",
       "      <th>product</th>\n",
       "      <th>complaint_what_happened</th>\n",
       "      <th>date_sent_to_company</th>\n",
       "      <th>issue</th>\n",
       "      <th>sub_product</th>\n",
       "      <th>zip_code</th>\n",
       "      <th>tags</th>\n",
       "      <th>complaint_id</th>\n",
       "      <th>timely</th>\n",
       "      <th>consumer_consent_provided</th>\n",
       "      <th>company_response</th>\n",
       "      <th>submitted_via</th>\n",
       "      <th>company</th>\n",
       "      <th>date_received</th>\n",
       "      <th>state</th>\n",
       "      <th>consumer_disputed</th>\n",
       "      <th>company_public_response</th>\n",
       "      <th>sub_issue</th>\n",
       "    </tr>\n",
       "  </thead>\n",
       "  <tbody>\n",
       "    <tr>\n",
       "      <th>0</th>\n",
       "      <td>Credit reporting or other personal consumer re...</td>\n",
       "      <td>NaN</td>\n",
       "      <td>2025-04-16T12:00:00-05:00</td>\n",
       "      <td>Incorrect information on your report</td>\n",
       "      <td>Credit reporting</td>\n",
       "      <td>20774</td>\n",
       "      <td>NaN</td>\n",
       "      <td>12991212</td>\n",
       "      <td>Yes</td>\n",
       "      <td>NaN</td>\n",
       "      <td>In progress</td>\n",
       "      <td>Web</td>\n",
       "      <td>TRANSUNION INTERMEDIATE HOLDINGS, INC.</td>\n",
       "      <td>2025-04-16T12:00:00-05:00</td>\n",
       "      <td>MD</td>\n",
       "      <td>NaN</td>\n",
       "      <td>NaN</td>\n",
       "      <td>Personal information incorrect</td>\n",
       "    </tr>\n",
       "    <tr>\n",
       "      <th>1</th>\n",
       "      <td>Credit reporting or other personal consumer re...</td>\n",
       "      <td>NaN</td>\n",
       "      <td>2025-04-16T12:00:00-05:00</td>\n",
       "      <td>Incorrect information on your report</td>\n",
       "      <td>Credit reporting</td>\n",
       "      <td>44123</td>\n",
       "      <td>NaN</td>\n",
       "      <td>12996317</td>\n",
       "      <td>Yes</td>\n",
       "      <td>NaN</td>\n",
       "      <td>In progress</td>\n",
       "      <td>Web</td>\n",
       "      <td>TRANSUNION INTERMEDIATE HOLDINGS, INC.</td>\n",
       "      <td>2025-04-16T12:00:00-05:00</td>\n",
       "      <td>OH</td>\n",
       "      <td>NaN</td>\n",
       "      <td>NaN</td>\n",
       "      <td>Account status incorrect</td>\n",
       "    </tr>\n",
       "    <tr>\n",
       "      <th>2</th>\n",
       "      <td>Credit reporting or other personal consumer re...</td>\n",
       "      <td>NaN</td>\n",
       "      <td>2025-04-16T12:00:00-05:00</td>\n",
       "      <td>Incorrect information on your report</td>\n",
       "      <td>Credit reporting</td>\n",
       "      <td>23602</td>\n",
       "      <td>NaN</td>\n",
       "      <td>12995933</td>\n",
       "      <td>Yes</td>\n",
       "      <td>NaN</td>\n",
       "      <td>In progress</td>\n",
       "      <td>Web</td>\n",
       "      <td>TRANSUNION INTERMEDIATE HOLDINGS, INC.</td>\n",
       "      <td>2025-04-16T12:00:00-05:00</td>\n",
       "      <td>VA</td>\n",
       "      <td>NaN</td>\n",
       "      <td>NaN</td>\n",
       "      <td>Account status incorrect</td>\n",
       "    </tr>\n",
       "    <tr>\n",
       "      <th>3</th>\n",
       "      <td>Credit reporting or other personal consumer re...</td>\n",
       "      <td>NaN</td>\n",
       "      <td>2025-04-16T12:00:00-05:00</td>\n",
       "      <td>Problem with a company's investigation into an...</td>\n",
       "      <td>Credit reporting</td>\n",
       "      <td>24577</td>\n",
       "      <td>NaN</td>\n",
       "      <td>12996220</td>\n",
       "      <td>Yes</td>\n",
       "      <td>NaN</td>\n",
       "      <td>In progress</td>\n",
       "      <td>Web</td>\n",
       "      <td>TRANSUNION INTERMEDIATE HOLDINGS, INC.</td>\n",
       "      <td>2025-04-16T12:00:00-05:00</td>\n",
       "      <td>VA</td>\n",
       "      <td>NaN</td>\n",
       "      <td>NaN</td>\n",
       "      <td>Their investigation did not fix an error on yo...</td>\n",
       "    </tr>\n",
       "    <tr>\n",
       "      <th>4</th>\n",
       "      <td>Credit reporting or other personal consumer re...</td>\n",
       "      <td>NaN</td>\n",
       "      <td>2025-04-16T12:00:00-05:00</td>\n",
       "      <td>Incorrect information on your report</td>\n",
       "      <td>Credit reporting</td>\n",
       "      <td>90044</td>\n",
       "      <td>NaN</td>\n",
       "      <td>12991136</td>\n",
       "      <td>Yes</td>\n",
       "      <td>NaN</td>\n",
       "      <td>In progress</td>\n",
       "      <td>Web</td>\n",
       "      <td>TRANSUNION INTERMEDIATE HOLDINGS, INC.</td>\n",
       "      <td>2025-04-16T12:00:00-05:00</td>\n",
       "      <td>CA</td>\n",
       "      <td>NaN</td>\n",
       "      <td>NaN</td>\n",
       "      <td>Information belongs to someone else</td>\n",
       "    </tr>\n",
       "  </tbody>\n",
       "</table>\n",
       "</div>"
      ],
      "text/plain": [
       "                                             product  complaint_what_happened  \\\n",
       "0  Credit reporting or other personal consumer re...                      NaN   \n",
       "1  Credit reporting or other personal consumer re...                      NaN   \n",
       "2  Credit reporting or other personal consumer re...                      NaN   \n",
       "3  Credit reporting or other personal consumer re...                      NaN   \n",
       "4  Credit reporting or other personal consumer re...                      NaN   \n",
       "\n",
       "        date_sent_to_company  \\\n",
       "0  2025-04-16T12:00:00-05:00   \n",
       "1  2025-04-16T12:00:00-05:00   \n",
       "2  2025-04-16T12:00:00-05:00   \n",
       "3  2025-04-16T12:00:00-05:00   \n",
       "4  2025-04-16T12:00:00-05:00   \n",
       "\n",
       "                                               issue       sub_product  \\\n",
       "0               Incorrect information on your report  Credit reporting   \n",
       "1               Incorrect information on your report  Credit reporting   \n",
       "2               Incorrect information on your report  Credit reporting   \n",
       "3  Problem with a company's investigation into an...  Credit reporting   \n",
       "4               Incorrect information on your report  Credit reporting   \n",
       "\n",
       "  zip_code tags  complaint_id timely consumer_consent_provided  \\\n",
       "0    20774  NaN      12991212    Yes                       NaN   \n",
       "1    44123  NaN      12996317    Yes                       NaN   \n",
       "2    23602  NaN      12995933    Yes                       NaN   \n",
       "3    24577  NaN      12996220    Yes                       NaN   \n",
       "4    90044  NaN      12991136    Yes                       NaN   \n",
       "\n",
       "  company_response submitted_via                                 company  \\\n",
       "0      In progress           Web  TRANSUNION INTERMEDIATE HOLDINGS, INC.   \n",
       "1      In progress           Web  TRANSUNION INTERMEDIATE HOLDINGS, INC.   \n",
       "2      In progress           Web  TRANSUNION INTERMEDIATE HOLDINGS, INC.   \n",
       "3      In progress           Web  TRANSUNION INTERMEDIATE HOLDINGS, INC.   \n",
       "4      In progress           Web  TRANSUNION INTERMEDIATE HOLDINGS, INC.   \n",
       "\n",
       "               date_received state  consumer_disputed  \\\n",
       "0  2025-04-16T12:00:00-05:00    MD                NaN   \n",
       "1  2025-04-16T12:00:00-05:00    OH                NaN   \n",
       "2  2025-04-16T12:00:00-05:00    VA                NaN   \n",
       "3  2025-04-16T12:00:00-05:00    VA                NaN   \n",
       "4  2025-04-16T12:00:00-05:00    CA                NaN   \n",
       "\n",
       "   company_public_response                                          sub_issue  \n",
       "0                      NaN                     Personal information incorrect  \n",
       "1                      NaN                           Account status incorrect  \n",
       "2                      NaN                           Account status incorrect  \n",
       "3                      NaN  Their investigation did not fix an error on yo...  \n",
       "4                      NaN                Information belongs to someone else  "
      ]
     },
     "execution_count": 9,
     "metadata": {},
     "output_type": "execute_result"
    }
   ],
   "source": [
    "df.head()"
   ]
  },
  {
   "cell_type": "code",
   "execution_count": 5,
   "id": "81145253",
   "metadata": {},
   "outputs": [
    {
     "data": {
      "text/plain": [
       "sub_product\n",
       "Credit reporting                              715\n",
       "I do not know                                  20\n",
       "General-purpose credit card or charge card      6\n",
       "Other personal consumer report                  3\n",
       "Other debt                                      1\n",
       "General-purpose prepaid card                    1\n",
       "Loan                                            1\n",
       "Credit card debt                                1\n",
       "Medical debt                                    1\n",
       "Telecommunications debt                         1\n",
       "Name: count, dtype: int64"
      ]
     },
     "execution_count": 5,
     "metadata": {},
     "output_type": "execute_result"
    }
   ],
   "source": [
    "df['sub_product'].value_counts()"
   ]
  },
  {
   "cell_type": "code",
   "execution_count": 6,
   "id": "e2debc68",
   "metadata": {},
   "outputs": [
    {
     "data": {
      "text/plain": [
       "company\n",
       "TRANSUNION INTERMEDIATE HOLDINGS, INC.    749\n",
       "BARCLAYS BANK DELAWARE                      1\n",
       "Name: count, dtype: int64"
      ]
     },
     "execution_count": 6,
     "metadata": {},
     "output_type": "execute_result"
    }
   ],
   "source": [
    "df['company'].value_counts()"
   ]
  },
  {
   "cell_type": "code",
   "execution_count": 7,
   "id": "b476b8f7",
   "metadata": {},
   "outputs": [
    {
     "data": {
      "text/plain": [
       "Index(['product', 'complaint_what_happened', 'date_sent_to_company', 'issue',\n",
       "       'sub_product', 'zip_code', 'tags', 'complaint_id', 'timely',\n",
       "       'consumer_consent_provided', 'company_response', 'submitted_via',\n",
       "       'company', 'date_received', 'state', 'consumer_disputed',\n",
       "       'company_public_response', 'sub_issue'],\n",
       "      dtype='object')"
      ]
     },
     "execution_count": 7,
     "metadata": {},
     "output_type": "execute_result"
    }
   ],
   "source": [
    "df.columns"
   ]
  },
  {
   "cell_type": "code",
   "execution_count": 8,
   "id": "8704297b",
   "metadata": {},
   "outputs": [
    {
     "data": {
      "text/plain": [
       "0                         Personal information incorrect\n",
       "1                               Account status incorrect\n",
       "2                               Account status incorrect\n",
       "3      Their investigation did not fix an error on yo...\n",
       "4                    Information belongs to someone else\n",
       "                             ...                        \n",
       "745    Credit inquiries on your report that you don't...\n",
       "746    Their investigation did not fix an error on yo...\n",
       "747                             Account status incorrect\n",
       "748                  Information belongs to someone else\n",
       "749                  Information belongs to someone else\n",
       "Name: sub_issue, Length: 750, dtype: object"
      ]
     },
     "execution_count": 8,
     "metadata": {},
     "output_type": "execute_result"
    }
   ],
   "source": [
    "df['sub_issue']"
   ]
  },
  {
   "cell_type": "code",
   "execution_count": null,
   "id": "42ee129b",
   "metadata": {},
   "outputs": [],
   "source": []
  }
 ],
 "metadata": {
  "kernelspec": {
   "display_name": "ml_env",
   "language": "python",
   "name": "python3"
  },
  "language_info": {
   "codemirror_mode": {
    "name": "ipython",
    "version": 3
   },
   "file_extension": ".py",
   "mimetype": "text/x-python",
   "name": "python",
   "nbconvert_exporter": "python",
   "pygments_lexer": "ipython3",
   "version": "3.13.2"
  }
 },
 "nbformat": 4,
 "nbformat_minor": 5
}
